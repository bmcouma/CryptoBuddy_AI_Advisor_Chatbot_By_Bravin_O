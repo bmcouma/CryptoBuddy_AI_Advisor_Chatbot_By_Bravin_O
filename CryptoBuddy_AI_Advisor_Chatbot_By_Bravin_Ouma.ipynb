{
  "nbformat": 4,
  "nbformat_minor": 0,
  "metadata": {
    "colab": {
      "provenance": []
    },
    "kernelspec": {
      "name": "python3",
      "display_name": "Python 3"
    },
    "language_info": {
      "name": "python"
    }
  },
  "cells": [
    {
      "cell_type": "code",
      "execution_count": null,
      "metadata": {
        "id": "AFmWeJRwsxny"
      },
      "outputs": [],
      "source": [
        "# Chatbot Identity & Personality / Design the Chatbot Personality\n",
        "chatbot_name = \"CryptoBuddy\"\n",
        "chatbot_tone = \"Friendly, Smart, and Eco-conscious\"\n",
        "\n",
        "def greet_user():\n",
        "    print(f\"👋 Hey there! I’m {chatbot_name}, your AI-powered crypto sidekick! \")\n",
        "    print(\"I’m here to help you choose the best coins based on profitability and sustainability \\n\")\n",
        "\n"
      ]
    },
    {
      "cell_type": "code",
      "source": [
        "# Sample Crypto Dataset / Load Predefined Crypto Data\n",
        "crypto_db = {\n",
        "    \"Bitcoin\": {\n",
        "        \"price_trend\": \"rising\",\n",
        "        \"market_cap\": \"high\",\n",
        "        \"energy_use\": \"high\",\n",
        "        \"sustainability_score\": 3\n",
        "    },\n",
        "    \"Ethereum\": {\n",
        "        \"price_trend\": \"stable\",\n",
        "        \"market_cap\": \"high\",\n",
        "        \"energy_use\": \"medium\",\n",
        "        \"sustainability_score\": 6\n",
        "    },\n",
        "    \"Cardano\": {\n",
        "        \"price_trend\": \"rising\",\n",
        "        \"market_cap\": \"medium\",\n",
        "        \"energy_use\": \"low\",\n",
        "        \"sustainability_score\": 8\n",
        "    }\n",
        "}\n"
      ],
      "metadata": {
        "id": "vcjq4CiltGd9"
      },
      "execution_count": null,
      "outputs": []
    },
    {
      "cell_type": "code",
      "source": [
        "# Analyze queries and give responses / Chatbot Logic (Rule-Based Analysis)\n",
        "def analyze_query(user_query):\n",
        "    user_query = user_query.lower()\n",
        "\n",
        "    if \"sustainable\" in user_query or \"eco\" in user_query:\n",
        "        recommend = max(crypto_db, key=lambda x: crypto_db[x][\"sustainability_score\"])\n",
        "        return f\"{recommend} 🌱 is the most sustainable crypto! It scores {crypto_db[recommend]['sustainability_score']}/10 on the green scale.\"\n",
        "\n",
        "    elif \"trending\" in user_query or \"rising\" in user_query:\n",
        "        rising_coins = [coin for coin in crypto_db if crypto_db[coin][\"price_trend\"] == \"rising\"]\n",
        "        return f\"The trending coins right now are: {', '.join(rising_coins)} 🚀\"\n",
        "\n",
        "    elif \"long-term\" in user_query or \"growth\" in user_query:\n",
        "        best = None\n",
        "        for coin in crypto_db:\n",
        "            data = crypto_db[coin]\n",
        "            if data[\"price_trend\"] == \"rising\" and data[\"market_cap\"] in [\"high\", \"medium\"] and data[\"sustainability_score\"] >= 7:\n",
        "                best = coin\n",
        "                break\n",
        "        if best:\n",
        "            return f\"{best} is a great long-term option! 🚀 It's growing steadily and sustainable too!\"\n",
        "        else:\n",
        "            return \"None of the current coins meet all long-term criteria. Try again later.\"\n",
        "\n",
        "    elif \"recommend\" in user_query or \"suggest\" in user_query:\n",
        "        return \"Tell me what you're looking for: Growth, Eco-friendly, or Trending?\"\n",
        "\n",
        "    else:\n",
        "        return \"Hmm 🤔 I didn’t get that. Try asking about trending, sustainable, or long-term growth coins.\"\n"
      ],
      "metadata": {
        "id": "hJOlASmutMya"
      },
      "execution_count": null,
      "outputs": []
    },
    {
      "cell_type": "code",
      "source": [
        "# Chat Interface / Chat Loop for User Interaction\n",
        "def start_chat():\n",
        "    greet_user()\n",
        "    while True:\n",
        "        user_input = input(\"You: \")\n",
        "        if user_input.lower() in [\"exit\", \"quit\", \"bye\"]:\n",
        "            print(f\"{chatbot_name}: Catch you later! Always research before investing 💼\")\n",
        "            break\n",
        "        response = analyze_query(user_input)\n",
        "        print(f\"{chatbot_name}: {response}\\n\")\n"
      ],
      "metadata": {
        "id": "Htu5B-ShtQD8"
      },
      "execution_count": null,
      "outputs": []
    },
    {
      "cell_type": "code",
      "source": [
        "start_chat()\n"
      ],
      "metadata": {
        "colab": {
          "base_uri": "https://localhost:8080/"
        },
        "id": "wM2HyLIStVVh",
        "outputId": "e34c50b8-eef3-4fe3-f8bb-8f857da525f1"
      },
      "execution_count": null,
      "outputs": [
        {
          "output_type": "stream",
          "name": "stdout",
          "text": [
            "👋 Hey there! I’m CryptoBuddy, your AI-powered crypto sidekick! \n",
            "I’m here to help you choose the best coins based on profitability and sustainability \n",
            "\n",
            "You: tell me more about crypto\n",
            "CryptoBuddy: Hmm 🤔 I didn’t get that. Try asking about trending, sustainable, or long-term growth coins.\n",
            "\n",
            "You: what is trending\n",
            "CryptoBuddy: The trending coins right now are: Bitcoin, Cardano 🚀\n",
            "\n"
          ]
        }
      ]
    },
    {
      "cell_type": "code",
      "source": [
        "# 🤖 Chatbot Decision Rules / Add Advice Rules (Clearly Defined)\n",
        "\n",
        "- Profitability Rule: Recommends coins with `price_trend = rising` and `market_cap = high`\n",
        "- Sustainability Rule: Favors coins with `energy_use = low` and `sustainability_score >= 7`\n"
      ],
      "metadata": {
        "id": "a2JYwqcytXei"
      },
      "execution_count": null,
      "outputs": []
    }
  ]
}